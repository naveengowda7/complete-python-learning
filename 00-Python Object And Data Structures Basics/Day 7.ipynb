{
 "cells": [
  {
   "cell_type": "markdown",
   "id": "cf7b565c",
   "metadata": {},
   "source": [
    "# Dictioneries\n",
    "They are not sequencial but Mappings and Their are very Flexible"
   ]
  },
  {
   "cell_type": "code",
   "execution_count": 1,
   "id": "3398c70e",
   "metadata": {},
   "outputs": [],
   "source": [
    "# creating a dictioneries\n",
    "d = {'Key1':'value1','Key2':'value2','Key3':'value3'}"
   ]
  },
  {
   "cell_type": "code",
   "execution_count": 2,
   "id": "3cc3ea05",
   "metadata": {},
   "outputs": [
    {
     "data": {
      "text/plain": [
       "{'Key1': 'value1', 'Key2': 'value2', 'Key3': 'value3'}"
      ]
     },
     "execution_count": 2,
     "metadata": {},
     "output_type": "execute_result"
    }
   ],
   "source": [
    "d"
   ]
  },
  {
   "cell_type": "code",
   "execution_count": 4,
   "id": "a73746fe",
   "metadata": {},
   "outputs": [
    {
     "data": {
      "text/plain": [
       "'value2'"
      ]
     },
     "execution_count": 4,
     "metadata": {},
     "output_type": "execute_result"
    }
   ],
   "source": [
    "d['Key2']"
   ]
  },
  {
   "cell_type": "markdown",
   "id": "a9e8c315",
   "metadata": {},
   "source": [
    "We should note that dictioneries are very Flexible In data types THey can Hold"
   ]
  },
  {
   "cell_type": "code",
   "execution_count": 5,
   "id": "2d10d374",
   "metadata": {},
   "outputs": [],
   "source": [
    "my_dict = {'key1':123,'key2':[7,8,9],'key3':['Item1','Item2','Item3']}"
   ]
  },
  {
   "cell_type": "code",
   "execution_count": 6,
   "id": "71526783",
   "metadata": {},
   "outputs": [
    {
     "data": {
      "text/plain": [
       "{'key1': 123, 'key2': [7, 8, 9], 'key3': ['Item1', 'Item2', 'Item3']}"
      ]
     },
     "execution_count": 6,
     "metadata": {},
     "output_type": "execute_result"
    }
   ],
   "source": [
    "my_dict"
   ]
  },
  {
   "cell_type": "code",
   "execution_count": 7,
   "id": "46a30bf0",
   "metadata": {},
   "outputs": [
    {
     "data": {
      "text/plain": [
       "123"
      ]
     },
     "execution_count": 7,
     "metadata": {},
     "output_type": "execute_result"
    }
   ],
   "source": [
    "my_dict['key1']"
   ]
  },
  {
   "cell_type": "code",
   "execution_count": 8,
   "id": "87edcbda",
   "metadata": {},
   "outputs": [
    {
     "data": {
      "text/plain": [
       "[7, 8, 9]"
      ]
     },
     "execution_count": 8,
     "metadata": {},
     "output_type": "execute_result"
    }
   ],
   "source": [
    "my_dict['key2']"
   ]
  },
  {
   "cell_type": "code",
   "execution_count": 9,
   "id": "82f27839",
   "metadata": {},
   "outputs": [
    {
     "data": {
      "text/plain": [
       "['Item1', 'Item2', 'Item3']"
      ]
     },
     "execution_count": 9,
     "metadata": {},
     "output_type": "execute_result"
    }
   ],
   "source": [
    "my_dict['key3']"
   ]
  },
  {
   "cell_type": "code",
   "execution_count": 11,
   "id": "e93e16cd",
   "metadata": {},
   "outputs": [
    {
     "data": {
      "text/plain": [
       "7"
      ]
     },
     "execution_count": 11,
     "metadata": {},
     "output_type": "execute_result"
    }
   ],
   "source": [
    "my_dict['key2'][0]"
   ]
  },
  {
   "cell_type": "code",
   "execution_count": 12,
   "id": "83aeb4e0",
   "metadata": {},
   "outputs": [
    {
     "data": {
      "text/plain": [
       "'Item3'"
      ]
     },
     "execution_count": 12,
     "metadata": {},
     "output_type": "execute_result"
    }
   ],
   "source": [
    "my_dict['key3'][2]"
   ]
  },
  {
   "cell_type": "markdown",
   "id": "97705076",
   "metadata": {},
   "source": [
    "We can Affect the value of KEY as well by this"
   ]
  },
  {
   "cell_type": "code",
   "execution_count": 13,
   "id": "2a17542a",
   "metadata": {},
   "outputs": [],
   "source": [
    "my_dict['key1'] = my_dict['key1']-123"
   ]
  },
  {
   "cell_type": "code",
   "execution_count": 15,
   "id": "781c6fc6",
   "metadata": {},
   "outputs": [
    {
     "data": {
      "text/plain": [
       "0"
      ]
     },
     "execution_count": 15,
     "metadata": {},
     "output_type": "execute_result"
    }
   ],
   "source": [
    "my_dict['key1']"
   ]
  },
  {
   "cell_type": "code",
   "execution_count": 16,
   "id": "8bd3b272",
   "metadata": {},
   "outputs": [
    {
     "data": {
      "text/plain": [
       "{'key1': 0, 'key2': [7, 8, 9], 'key3': ['Item1', 'Item2', 'Item3']}"
      ]
     },
     "execution_count": 16,
     "metadata": {},
     "output_type": "execute_result"
    }
   ],
   "source": [
    "my_dict"
   ]
  },
  {
   "cell_type": "markdown",
   "id": "76ba2b8c",
   "metadata": {},
   "source": [
    "Python Dictioneries are having a self adding/substraction with these operators...-=/+="
   ]
  },
  {
   "cell_type": "code",
   "execution_count": 19,
   "id": "5a9f1cfd",
   "metadata": {},
   "outputs": [],
   "source": [
    "my_dict['key1'] -= 123"
   ]
  },
  {
   "cell_type": "code",
   "execution_count": 20,
   "id": "bbb0a382",
   "metadata": {},
   "outputs": [
    {
     "data": {
      "text/plain": [
       "-123"
      ]
     },
     "execution_count": 20,
     "metadata": {},
     "output_type": "execute_result"
    }
   ],
   "source": [
    "my_dict['key1']"
   ]
  },
  {
   "cell_type": "code",
   "execution_count": 21,
   "id": "eed55da5",
   "metadata": {},
   "outputs": [],
   "source": [
    "my_dict['key2'][0] += 7"
   ]
  },
  {
   "cell_type": "code",
   "execution_count": 22,
   "id": "609c4367",
   "metadata": {},
   "outputs": [
    {
     "data": {
      "text/plain": [
       "14"
      ]
     },
     "execution_count": 22,
     "metadata": {},
     "output_type": "execute_result"
    }
   ],
   "source": [
    "my_dict['key2'][0]"
   ]
  },
  {
   "cell_type": "markdown",
   "id": "6b8b2d04",
   "metadata": {},
   "source": [
    "Nesting The Dictioneries"
   ]
  },
  {
   "cell_type": "code",
   "execution_count": 32,
   "id": "0180c3e3",
   "metadata": {},
   "outputs": [],
   "source": [
    "d = {'key':{'instakey':{'famkey':'Value'}}}"
   ]
  },
  {
   "cell_type": "code",
   "execution_count": 34,
   "id": "4d742ce2",
   "metadata": {},
   "outputs": [
    {
     "data": {
      "text/plain": [
       "'Value'"
      ]
     },
     "execution_count": 34,
     "metadata": {},
     "output_type": "execute_result"
    }
   ],
   "source": [
    "# let's now grab the Value from the dictioneries\n",
    "d['key']['instakey']['famkey']"
   ]
  },
  {
   "cell_type": "markdown",
   "id": "26f404bf",
   "metadata": {},
   "source": [
    "A few dictionery Methods"
   ]
  },
  {
   "cell_type": "code",
   "execution_count": 35,
   "id": "8765fd40",
   "metadata": {},
   "outputs": [
    {
     "data": {
      "text/plain": [
       "dict_keys(['key'])"
      ]
     },
     "execution_count": 35,
     "metadata": {},
     "output_type": "execute_result"
    }
   ],
   "source": [
    "d.keys()"
   ]
  },
  {
   "cell_type": "code",
   "execution_count": 36,
   "id": "730565e8",
   "metadata": {},
   "outputs": [
    {
     "data": {
      "text/plain": [
       "dict_values([{'instakey': {'famkey': 'Value'}}])"
      ]
     },
     "execution_count": 36,
     "metadata": {},
     "output_type": "execute_result"
    }
   ],
   "source": [
    "d.values()"
   ]
  },
  {
   "cell_type": "code",
   "execution_count": 37,
   "id": "065383fc",
   "metadata": {},
   "outputs": [
    {
     "data": {
      "text/plain": [
       "dict_items([('key', {'instakey': {'famkey': 'Value'}})])"
      ]
     },
     "execution_count": 37,
     "metadata": {},
     "output_type": "execute_result"
    }
   ],
   "source": [
    "d.items()"
   ]
  },
  {
   "cell_type": "code",
   "execution_count": 38,
   "id": "28281ef2",
   "metadata": {},
   "outputs": [],
   "source": [
    "# lets do another example to understand this dictionery methods\n",
    "d = {'key1':'value1','key2':'value2'}"
   ]
  },
  {
   "cell_type": "code",
   "execution_count": 39,
   "id": "6ad6c29c",
   "metadata": {},
   "outputs": [
    {
     "data": {
      "text/plain": [
       "dict_keys(['key1', 'key2'])"
      ]
     },
     "execution_count": 39,
     "metadata": {},
     "output_type": "execute_result"
    }
   ],
   "source": [
    "d.keys()"
   ]
  },
  {
   "cell_type": "code",
   "execution_count": 40,
   "id": "7e61bb33",
   "metadata": {},
   "outputs": [
    {
     "data": {
      "text/plain": [
       "dict_values(['value1', 'value2'])"
      ]
     },
     "execution_count": 40,
     "metadata": {},
     "output_type": "execute_result"
    }
   ],
   "source": [
    "d.values()"
   ]
  },
  {
   "cell_type": "code",
   "execution_count": 42,
   "id": "03e98657",
   "metadata": {},
   "outputs": [
    {
     "data": {
      "text/plain": [
       "dict_items([('key1', 'value1'), ('key2', 'value2')])"
      ]
     },
     "execution_count": 42,
     "metadata": {},
     "output_type": "execute_result"
    }
   ],
   "source": [
    "d.items()"
   ]
  },
  {
   "cell_type": "code",
   "execution_count": null,
   "id": "ad6dbf21",
   "metadata": {},
   "outputs": [],
   "source": []
  }
 ],
 "metadata": {
  "kernelspec": {
   "display_name": "Python 3 (ipykernel)",
   "language": "python",
   "name": "python3"
  },
  "language_info": {
   "codemirror_mode": {
    "name": "ipython",
    "version": 3
   },
   "file_extension": ".py",
   "mimetype": "text/x-python",
   "name": "python",
   "nbconvert_exporter": "python",
   "pygments_lexer": "ipython3",
   "version": "3.9.12"
  }
 },
 "nbformat": 4,
 "nbformat_minor": 5
}
