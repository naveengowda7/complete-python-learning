{
 "cells": [
  {
   "cell_type": "code",
   "execution_count": 1,
   "id": "6fbba883",
   "metadata": {},
   "outputs": [
    {
     "data": {
      "text/plain": [
       "11"
      ]
     },
     "execution_count": 1,
     "metadata": {},
     "output_type": "execute_result"
    }
   ],
   "source": [
    "#DAY1\n",
    "# addition\n",
    "4+7"
   ]
  },
  {
   "cell_type": "code",
   "execution_count": 2,
   "id": "e15ddeac",
   "metadata": {},
   "outputs": [
    {
     "data": {
      "text/plain": [
       "-3"
      ]
     },
     "execution_count": 2,
     "metadata": {},
     "output_type": "execute_result"
    }
   ],
   "source": [
    "# subtraction\n",
    "4-7"
   ]
  },
  {
   "cell_type": "code",
   "execution_count": 30,
   "id": "397c723b",
   "metadata": {},
   "outputs": [
    {
     "data": {
      "text/plain": [
       "0.5714285714285714"
      ]
     },
     "execution_count": 30,
     "metadata": {},
     "output_type": "execute_result"
    }
   ],
   "source": [
    "# division\n",
    "4/7"
   ]
  },
  {
   "cell_type": "markdown",
   "id": "7cd58b22",
   "metadata": {},
   "source": [
    "# floor division= it results in an output of a quatient nearer integer.for example 4/7 is like to in between 0 and 1 \n"
   ]
  },
  {
   "cell_type": "code",
   "execution_count": 6,
   "id": "dc7692ee",
   "metadata": {},
   "outputs": [
    {
     "data": {
      "text/plain": [
       "0"
      ]
     },
     "execution_count": 6,
     "metadata": {},
     "output_type": "execute_result"
    }
   ],
   "source": [
    "# floor division\n",
    "4//7"
   ]
  },
  {
   "cell_type": "code",
   "execution_count": 8,
   "id": "d5e4815e",
   "metadata": {},
   "outputs": [
    {
     "data": {
      "text/plain": [
       "6"
      ]
     },
     "execution_count": 8,
     "metadata": {},
     "output_type": "execute_result"
    }
   ],
   "source": [
    "# multiplication\n",
    "2*3"
   ]
  },
  {
   "cell_type": "code",
   "execution_count": 9,
   "id": "a2a719c4",
   "metadata": {},
   "outputs": [
    {
     "data": {
      "text/plain": [
       "8"
      ]
     },
     "execution_count": 9,
     "metadata": {},
     "output_type": "execute_result"
    }
   ],
   "source": [
    "# power\n",
    "2**3"
   ]
  },
  {
   "cell_type": "code",
   "execution_count": 10,
   "id": "d606d803",
   "metadata": {},
   "outputs": [
    {
     "data": {
      "text/plain": [
       "1.4142135623730951"
      ]
     },
     "execution_count": 10,
     "metadata": {},
     "output_type": "execute_result"
    }
   ],
   "source": [
    "# we can write this even for the sqaure root\n",
    "2**0.5"
   ]
  },
  {
   "cell_type": "code",
   "execution_count": 12,
   "id": "bcd0b119",
   "metadata": {},
   "outputs": [
    {
     "data": {
      "text/plain": [
       "0"
      ]
     },
     "execution_count": 12,
     "metadata": {},
     "output_type": "execute_result"
    }
   ],
   "source": [
    "# if we want a remainder of a division then we can write in this form\n",
    "4%2"
   ]
  },
  {
   "cell_type": "code",
   "execution_count": 13,
   "id": "e2e3692e",
   "metadata": {},
   "outputs": [],
   "source": [
    "# even we can assign a variable to a number\n",
    "a=7"
   ]
  },
  {
   "cell_type": "code",
   "execution_count": 14,
   "id": "518da314",
   "metadata": {},
   "outputs": [
    {
     "data": {
      "text/plain": [
       "14"
      ]
     },
     "execution_count": 14,
     "metadata": {},
     "output_type": "execute_result"
    }
   ],
   "source": [
    "a+a"
   ]
  },
  {
   "cell_type": "code",
   "execution_count": 15,
   "id": "39079e44",
   "metadata": {},
   "outputs": [
    {
     "data": {
      "text/plain": [
       "49"
      ]
     },
     "execution_count": 15,
     "metadata": {},
     "output_type": "execute_result"
    }
   ],
   "source": [
    "a*a"
   ]
  },
  {
   "cell_type": "code",
   "execution_count": 16,
   "id": "87aced39",
   "metadata": {},
   "outputs": [
    {
     "data": {
      "text/plain": [
       "1.0"
      ]
     },
     "execution_count": 16,
     "metadata": {},
     "output_type": "execute_result"
    }
   ],
   "source": [
    "a/a"
   ]
  },
  {
   "cell_type": "code",
   "execution_count": 17,
   "id": "1fbe95aa",
   "metadata": {},
   "outputs": [],
   "source": [
    "# even we can reassign the value of the a by \n",
    "a=a+a"
   ]
  },
  {
   "cell_type": "code",
   "execution_count": 18,
   "id": "d9f2c858",
   "metadata": {},
   "outputs": [
    {
     "data": {
      "text/plain": [
       "14"
      ]
     },
     "execution_count": 18,
     "metadata": {},
     "output_type": "execute_result"
    }
   ],
   "source": [
    "a"
   ]
  },
  {
   "cell_type": "code",
   "execution_count": 19,
   "id": "58c613cd",
   "metadata": {},
   "outputs": [],
   "source": [
    "a=a*a"
   ]
  },
  {
   "cell_type": "code",
   "execution_count": 20,
   "id": "4b34f927",
   "metadata": {},
   "outputs": [
    {
     "data": {
      "text/plain": [
       "196"
      ]
     },
     "execution_count": 20,
     "metadata": {},
     "output_type": "execute_result"
    }
   ],
   "source": [
    "a"
   ]
  },
  {
   "cell_type": "code",
   "execution_count": 21,
   "id": "a4da83ca",
   "metadata": {},
   "outputs": [],
   "source": [
    "a=a/a"
   ]
  },
  {
   "cell_type": "code",
   "execution_count": 22,
   "id": "395a8c13",
   "metadata": {},
   "outputs": [
    {
     "data": {
      "text/plain": [
       "1.0"
      ]
     },
     "execution_count": 22,
     "metadata": {},
     "output_type": "execute_result"
    }
   ],
   "source": [
    "a"
   ]
  },
  {
   "cell_type": "code",
   "execution_count": 23,
   "id": "9502d651",
   "metadata": {},
   "outputs": [],
   "source": [
    "my_income=400000\n",
    "tax_rate=0.10"
   ]
  },
  {
   "cell_type": "code",
   "execution_count": 24,
   "id": "dfeaa69d",
   "metadata": {},
   "outputs": [],
   "source": [
    "my_tax=my_income*tax_rate"
   ]
  },
  {
   "cell_type": "code",
   "execution_count": 25,
   "id": "1f082ad0",
   "metadata": {},
   "outputs": [
    {
     "data": {
      "text/plain": [
       "40000.0"
      ]
     },
     "execution_count": 25,
     "metadata": {},
     "output_type": "execute_result"
    }
   ],
   "source": [
    "my_tax"
   ]
  },
  {
   "cell_type": "code",
   "execution_count": 2,
   "id": "19126d82",
   "metadata": {},
   "outputs": [
    {
     "data": {
      "text/plain": [
       "35.800000000000004"
      ]
     },
     "execution_count": 2,
     "metadata": {},
     "output_type": "execute_result"
    }
   ],
   "source": [
    "358*0.10"
   ]
  },
  {
   "cell_type": "code",
   "execution_count": 27,
   "id": "751678ce",
   "metadata": {},
   "outputs": [
    {
     "data": {
      "text/plain": [
       "54.900000000000006"
      ]
     },
     "execution_count": 27,
     "metadata": {},
     "output_type": "execute_result"
    }
   ],
   "source": [
    "549*0.10"
   ]
  },
  {
   "cell_type": "code",
   "execution_count": 28,
   "id": "a3045f85",
   "metadata": {},
   "outputs": [
    {
     "data": {
      "text/plain": [
       "89.9"
      ]
     },
     "execution_count": 28,
     "metadata": {},
     "output_type": "execute_result"
    }
   ],
   "source": [
    "899*0.10"
   ]
  },
  {
   "cell_type": "code",
   "execution_count": 29,
   "id": "b99a75c9",
   "metadata": {},
   "outputs": [
    {
     "data": {
      "text/plain": [
       "180.6"
      ]
     },
     "execution_count": 29,
     "metadata": {},
     "output_type": "execute_result"
    }
   ],
   "source": [
    "35.8+54.9+89.9"
   ]
  },
  {
   "cell_type": "code",
   "execution_count": 30,
   "id": "252cbc01",
   "metadata": {},
   "outputs": [
    {
     "data": {
      "text/plain": [
       "1807"
      ]
     },
     "execution_count": 30,
     "metadata": {},
     "output_type": "execute_result"
    }
   ],
   "source": [
    "359+549+899\n"
   ]
  },
  {
   "cell_type": "code",
   "execution_count": 31,
   "id": "8e4a3b8b",
   "metadata": {},
   "outputs": [
    {
     "data": {
      "text/plain": [
       "1626.4"
      ]
     },
     "execution_count": 31,
     "metadata": {},
     "output_type": "execute_result"
    }
   ],
   "source": [
    "1807-180.6"
   ]
  },
  {
   "cell_type": "markdown",
   "id": "b35396ad",
   "metadata": {},
   "source": [
    "#DAY2\n",
    "Learning about\n",
    "Dynamic Typing\n",
    "Type()"
   ]
  },
  {
   "cell_type": "code",
   "execution_count": 7,
   "id": "ae78aec5",
   "metadata": {},
   "outputs": [],
   "source": [
    "#Dynamic typing\n",
    "my_brother=7"
   ]
  },
  {
   "cell_type": "code",
   "execution_count": 8,
   "id": "39700efb",
   "metadata": {},
   "outputs": [
    {
     "data": {
      "text/plain": [
       "7"
      ]
     },
     "execution_count": 8,
     "metadata": {},
     "output_type": "execute_result"
    }
   ],
   "source": [
    "my_brother"
   ]
  },
  {
   "cell_type": "code",
   "execution_count": 9,
   "id": "c2713a1c",
   "metadata": {},
   "outputs": [],
   "source": [
    "my_brother=['siddharth','siddhu']"
   ]
  },
  {
   "cell_type": "code",
   "execution_count": 10,
   "id": "9275853b",
   "metadata": {},
   "outputs": [
    {
     "data": {
      "text/plain": [
       "['siddharth', 'siddhu']"
      ]
     },
     "execution_count": 10,
     "metadata": {},
     "output_type": "execute_result"
    }
   ],
   "source": [
    "my_brother"
   ]
  },
  {
   "cell_type": "markdown",
   "id": "fd251b7c",
   "metadata": {},
   "source": [
    "#even we can do the reassigning as simple as we can by +=,-=,/= and *=\n"
   ]
  },
  {
   "cell_type": "code",
   "execution_count": 11,
   "id": "6d671ff4",
   "metadata": {},
   "outputs": [],
   "source": [
    "a = 10"
   ]
  },
  {
   "cell_type": "code",
   "execution_count": 12,
   "id": "dc319df1",
   "metadata": {},
   "outputs": [],
   "source": [
    "a +=10"
   ]
  },
  {
   "cell_type": "code",
   "execution_count": 13,
   "id": "bf61190b",
   "metadata": {},
   "outputs": [
    {
     "data": {
      "text/plain": [
       "20"
      ]
     },
     "execution_count": 13,
     "metadata": {},
     "output_type": "execute_result"
    }
   ],
   "source": [
    "a"
   ]
  },
  {
   "cell_type": "code",
   "execution_count": 14,
   "id": "16dad816",
   "metadata": {},
   "outputs": [],
   "source": [
    "a = 10"
   ]
  },
  {
   "cell_type": "code",
   "execution_count": 15,
   "id": "7d26681f",
   "metadata": {},
   "outputs": [],
   "source": [
    "a *= 10"
   ]
  },
  {
   "cell_type": "code",
   "execution_count": 16,
   "id": "f9c653bf",
   "metadata": {},
   "outputs": [
    {
     "data": {
      "text/plain": [
       "100"
      ]
     },
     "execution_count": 16,
     "metadata": {},
     "output_type": "execute_result"
    }
   ],
   "source": [
    "a"
   ]
  },
  {
   "cell_type": "code",
   "execution_count": 17,
   "id": "a9e0c10d",
   "metadata": {},
   "outputs": [],
   "source": [
    "a /=10"
   ]
  },
  {
   "cell_type": "code",
   "execution_count": 18,
   "id": "d7b72644",
   "metadata": {},
   "outputs": [
    {
     "data": {
      "text/plain": [
       "10.0"
      ]
     },
     "execution_count": 18,
     "metadata": {},
     "output_type": "execute_result"
    }
   ],
   "source": [
    "a"
   ]
  },
  {
   "cell_type": "markdown",
   "id": "cfaaab45",
   "metadata": {},
   "source": [
    "# we can determine a variable type with a function called TYPE()\n",
    "int\n",
    "float\n",
    "str(string)\n",
    "bool(booleans)\n",
    "dict(dictioneries)\n",
    "tuple\n",
    "set\n",
    "and many more"
   ]
  },
  {
   "cell_type": "code",
   "execution_count": 21,
   "id": "272f4f95",
   "metadata": {},
   "outputs": [],
   "source": [
    "# for example\n",
    "a = 'naveen'"
   ]
  },
  {
   "cell_type": "code",
   "execution_count": 22,
   "id": "60d65a66",
   "metadata": {},
   "outputs": [
    {
     "data": {
      "text/plain": [
       "'naveen'"
      ]
     },
     "execution_count": 22,
     "metadata": {},
     "output_type": "execute_result"
    }
   ],
   "source": [
    "a"
   ]
  },
  {
   "cell_type": "code",
   "execution_count": 23,
   "id": "8c0437f8",
   "metadata": {},
   "outputs": [
    {
     "data": {
      "text/plain": [
       "str"
      ]
     },
     "execution_count": 23,
     "metadata": {},
     "output_type": "execute_result"
    }
   ],
   "source": [
    "type(a)"
   ]
  },
  {
   "cell_type": "code",
   "execution_count": 24,
   "id": "f3bf513d",
   "metadata": {},
   "outputs": [],
   "source": [
    "a = 7"
   ]
  },
  {
   "cell_type": "code",
   "execution_count": 25,
   "id": "28bf6491",
   "metadata": {},
   "outputs": [
    {
     "data": {
      "text/plain": [
       "7"
      ]
     },
     "execution_count": 25,
     "metadata": {},
     "output_type": "execute_result"
    }
   ],
   "source": [
    "a"
   ]
  },
  {
   "cell_type": "code",
   "execution_count": 26,
   "id": "9549cedc",
   "metadata": {},
   "outputs": [
    {
     "data": {
      "text/plain": [
       "int"
      ]
     },
     "execution_count": 26,
     "metadata": {},
     "output_type": "execute_result"
    }
   ],
   "source": [
    "type(a)"
   ]
  },
  {
   "cell_type": "code",
   "execution_count": 27,
   "id": "3f029dd7",
   "metadata": {},
   "outputs": [],
   "source": [
    "a = 2.73"
   ]
  },
  {
   "cell_type": "code",
   "execution_count": 28,
   "id": "e9030dee",
   "metadata": {},
   "outputs": [
    {
     "data": {
      "text/plain": [
       "2.73"
      ]
     },
     "execution_count": 28,
     "metadata": {},
     "output_type": "execute_result"
    }
   ],
   "source": [
    "a"
   ]
  },
  {
   "cell_type": "code",
   "execution_count": 29,
   "id": "37713cb9",
   "metadata": {},
   "outputs": [
    {
     "data": {
      "text/plain": [
       "float"
      ]
     },
     "execution_count": 29,
     "metadata": {},
     "output_type": "execute_result"
    }
   ],
   "source": [
    "type(a)"
   ]
  },
  {
   "cell_type": "code",
   "execution_count": null,
   "id": "d904ab77",
   "metadata": {},
   "outputs": [],
   "source": []
  }
 ],
 "metadata": {
  "kernelspec": {
   "display_name": "Python 3 (ipykernel)",
   "language": "python",
   "name": "python3"
  },
  "language_info": {
   "codemirror_mode": {
    "name": "ipython",
    "version": 3
   },
   "file_extension": ".py",
   "mimetype": "text/x-python",
   "name": "python",
   "nbconvert_exporter": "python",
   "pygments_lexer": "ipython3",
   "version": "3.9.12"
  }
 },
 "nbformat": 4,
 "nbformat_minor": 5
}
