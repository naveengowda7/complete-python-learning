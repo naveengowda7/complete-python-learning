{
 "cells": [
  {
   "cell_type": "markdown",
   "id": "4af55623",
   "metadata": {},
   "source": [
    "# day4\n",
    " today i'm learning these following topics\n",
    " "
   ]
  },
  {
   "cell_type": "code",
   "execution_count": 5,
   "id": "fb5c36c6",
   "metadata": {},
   "outputs": [
    {
     "data": {
      "text/plain": [
       "\"I'm Insurting a string with a curly bracesto test a print formatting\""
      ]
     },
     "execution_count": 5,
     "metadata": {},
     "output_type": "execute_result"
    }
   ],
   "source": [
    "#print formating\n",
    "#we can use a .format() method to add a object to an aready existed string\n",
    "\"I'm Insurting a string with a curly braces{}\".format('to test a print formatting')"
   ]
  },
  {
   "cell_type": "markdown",
   "id": "552a291f",
   "metadata": {},
   "source": [
    "# string formatting\n",
    "string formatting let's us to merge a things without chaining them together,for example"
   ]
  },
  {
   "cell_type": "code",
   "execution_count": 12,
   "id": "0f642bb4",
   "metadata": {},
   "outputs": [],
   "source": [
    "player = 'Naveen'\n",
    "points = 47"
   ]
  },
  {
   "cell_type": "code",
   "execution_count": 13,
   "id": "4c242cc4",
   "metadata": {},
   "outputs": [
    {
     "data": {
      "text/plain": [
       "'last night,playerNaveen scored points47'"
      ]
     },
     "execution_count": 13,
     "metadata": {},
     "output_type": "execute_result"
    }
   ],
   "source": [
    "f'last night,player{player} scored points{points}'"
   ]
  },
  {
   "cell_type": "code",
   "execution_count": 14,
   "id": "1043f594",
   "metadata": {},
   "outputs": [
    {
     "data": {
      "text/plain": [
       "'playerNaveen made a world record of scoring a 47points in badminton'"
      ]
     },
     "execution_count": 14,
     "metadata": {},
     "output_type": "execute_result"
    }
   ],
   "source": [
    "f'player{player} made a world record of scoring a {points}points in badminton'"
   ]
  },
  {
   "cell_type": "markdown",
   "id": "cbe45d51",
   "metadata": {},
   "source": [
    "# different types of string formatting\n",
    "their are a 3different methods to format a string such as "
   ]
  },
  {
   "cell_type": "markdown",
   "id": "1c3275b5",
   "metadata": {},
   "source": [
    "• old method involved placeholders using a modulo % character"
   ]
  },
  {
   "cell_type": "markdown",
   "id": "0fc1fc8f",
   "metadata": {},
   "source": [
    "• improved technique called .format() method"
   ]
  },
  {
   "cell_type": "markdown",
   "id": "1d3a59c3",
   "metadata": {},
   "source": [
    "• newest method introduced which uses formatted strings, called f-strings."
   ]
  },
  {
   "cell_type": "markdown",
   "id": "e79b46a9",
   "metadata": {},
   "source": [
    "# Modulo character\n",
    "we can use%s modulo character to inject a strings in print statements.the modulo reffered as a string formatting operator"
   ]
  },
  {
   "cell_type": "code",
   "execution_count": 18,
   "id": "e5f4a7b2",
   "metadata": {},
   "outputs": [
    {
     "name": "stdout",
     "output_type": "stream",
     "text": [
      "i'm gonna inject something here.\n"
     ]
    }
   ],
   "source": [
    "print(\"i'm gonna inject %s here.\"%'something')"
   ]
  },
  {
   "cell_type": "markdown",
   "id": "50fbab72",
   "metadata": {},
   "source": [
    "even we can inject a various text here..."
   ]
  },
  {
   "cell_type": "code",
   "execution_count": 20,
   "id": "e23d27ef",
   "metadata": {},
   "outputs": [
    {
     "name": "stdout",
     "output_type": "stream",
     "text": [
      "i can inject  some text here, and more even here.\n"
     ]
    }
   ],
   "source": [
    "print(\"i can inject  %s text here, and %s even here.\"%('some','more'))"
   ]
  },
  {
   "cell_type": "markdown",
   "id": "ec75f2ac",
   "metadata": {},
   "source": [
    "and morover we can assign a variable to it"
   ]
  },
  {
   "cell_type": "code",
   "execution_count": 21,
   "id": "c83bab29",
   "metadata": {},
   "outputs": [
    {
     "name": "stdout",
     "output_type": "stream",
     "text": [
      "naveen is a di heart fan of Dhoni.\n"
     ]
    }
   ],
   "source": [
    "x,y= ('naveen','Dhoni')\n",
    "print(\"%s is a di heart fan of %s.\" %(x,y))"
   ]
  },
  {
   "cell_type": "markdown",
   "id": "7311bcdb",
   "metadata": {},
   "source": [
    "# format conversion methods\n",
    " we must know here that these two operators called %s and %r converts a python object  into a string.using two seperate methods called: str() and repr().\n",
    " While repr() %r is deliver a \"string representation of the object including quotation and any escape characters\"\n"
   ]
  },
  {
   "cell_type": "code",
   "execution_count": 28,
   "id": "02c197f1",
   "metadata": {},
   "outputs": [
    {
     "name": "stdout",
     "output_type": "stream",
     "text": [
      "i'm naveen and struggling with working hard to compete with the competative world.\n",
      "i'm 'naveen' and struggling with working hard to compete with the 'competative' world.\n"
     ]
    }
   ],
   "source": [
    "print(\"i'm %s and struggling with working hard to compete with the %s world.\"%('naveen','competative'))\n",
    "print(\"i'm %r and struggling with working hard to compete with the %r world.\"%('naveen','competative'))"
   ]
  },
  {
   "cell_type": "code",
   "execution_count": 30,
   "id": "97e042a7",
   "metadata": {},
   "outputs": [
    {
     "name": "stdout",
     "output_type": "stream",
     "text": [
      "i'm \t naveen and struggling with \t working hard to compete with the competative world.\n",
      "i'm '\\t naveen' and struggling with \t working hard to compete with the 'compet \\t ative' world.\n"
     ]
    }
   ],
   "source": [
    " # as another example \\t is injects a spce bar in astring\n",
    "print(\"i'm %s and struggling with \\t working hard to compete with the %s world.\"%('\\t naveen','competative'))\n",
    "print(\"i'm %r and struggling with \\t working hard to compete with the %r world.\"%('\\t naveen','compet \\t ative'))"
   ]
  },
  {
   "cell_type": "markdown",
   "id": "4cb107d2",
   "metadata": {},
   "source": [
    "%s operator converts to the string what ever it sees,including integer and float. But %d converts 1st into an ineger from float then it will converted to a string"
   ]
  },
  {
   "cell_type": "code",
   "execution_count": 35,
   "id": "e5f38faf",
   "metadata": {},
   "outputs": [
    {
     "name": "stdout",
     "output_type": "stream",
     "text": [
      " HEllo world i got a percentage of 86.678 in exams\n",
      " Hello world i got a percentage of 99 in exams with out rounfing offf\n"
     ]
    }
   ],
   "source": [
    "print(\" HEllo world i got a percentage of %s in exams\"%86.678)\n",
    "print(\" Hello world i got a percentage of %d in exams with out rounfing offf\"%99.99999)"
   ]
  },
  {
   "cell_type": "markdown",
   "id": "79be6c5c",
   "metadata": {},
   "source": [
    "# padding and precision of floating point numbers\n",
    "floating point numbers uses the format %5.2f .5% is would be the minimum number of characters included in it and 2f is nothing but its tells the python that how many digits after the decimal points must be taken or print . If the floating number present in it doesnt contains the yf then it world replicate the padding with space orelse zero"
   ]
  },
  {
   "cell_type": "code",
   "execution_count": 36,
   "id": "7ca49f39",
   "metadata": {},
   "outputs": [
    {
     "name": "stdout",
     "output_type": "stream",
     "text": [
      "This is a floating point number 767.23\n"
     ]
    }
   ],
   "source": [
    "#Let's see with an example\n",
    "print(\"This is a floating point number %5.2f\"%767.2345)"
   ]
  },
  {
   "cell_type": "code",
   "execution_count": 39,
   "id": "154921d9",
   "metadata": {},
   "outputs": [
    {
     "name": "stdout",
     "output_type": "stream",
     "text": [
      "This is a floating point number 767\n"
     ]
    }
   ],
   "source": [
    "print(\"This is a floating point number %2.0f\"%767.2345)"
   ]
  },
  {
   "cell_type": "code",
   "execution_count": 40,
   "id": "6159d0ae",
   "metadata": {},
   "outputs": [
    {
     "name": "stdout",
     "output_type": "stream",
     "text": [
      "This is a floating point number 123.678000000\n"
     ]
    }
   ],
   "source": [
    "print(\"This is a floating point number %0.9f\"%123.678)"
   ]
  },
  {
   "cell_type": "markdown",
   "id": "3306b40c",
   "metadata": {},
   "source": [
    "# multiple formatting\n",
    "means formatting a text for a multiple times.That's mean nothing prohibits using conversion tool for multiple time."
   ]
  },
  {
   "cell_type": "code",
   "execution_count": 45,
   "id": "567c71a1",
   "metadata": {},
   "outputs": [
    {
     "name": "stdout",
     "output_type": "stream",
     "text": [
      "i sleep at night over thinking of my future 99.9999990000 success or failure 'journey' \n"
     ]
    }
   ],
   "source": [
    "print(\"i sleep at %s over thinking of my future %5.10f success or failure %r \"%('night',99.999999,'journey'))"
   ]
  },
  {
   "cell_type": "markdown",
   "id": "20685ee5",
   "metadata": {},
   "source": [
    "# formatting a string using .FORMAT\n",
    "the better way of formatting an object in to a string is by the string. format() IS AS FOLLOWS\n",
    "'this is a string{}and also string{}'.format('something1','something2')"
   ]
  },
  {
   "cell_type": "code",
   "execution_count": 47,
   "id": "f2453380",
   "metadata": {},
   "outputs": [
    {
     "name": "stdout",
     "output_type": "stream",
     "text": [
      "Hello their I'm Naveen\n"
     ]
    }
   ],
   "source": [
    "print(\"Hello their I'm {}\".format('Naveen'))"
   ]
  },
  {
   "cell_type": "markdown",
   "id": "5ddaf220",
   "metadata": {},
   "source": [
    "# .FORMAT HAS SEVERAL ADVANTAGES AGAINST A %SPLACEHOLDER OPERATOR\n",
    "They are"
   ]
  },
  {
   "cell_type": "markdown",
   "id": "80bf22e6",
   "metadata": {},
   "source": [
    "• IN .format the objects can be called by a index number"
   ]
  },
  {
   "cell_type": "code",
   "execution_count": 49,
   "id": "341b20d1",
   "metadata": {},
   "outputs": [
    {
     "name": "stdout",
     "output_type": "stream",
     "text": [
      "Hello their I'm Naveen and 18 years old studying in reva university\n"
     ]
    }
   ],
   "source": [
    "print(\"Hello their I'm {0} and {1} years old studying in {2}\".format('Naveen',18,'reva university'))"
   ]
  },
  {
   "cell_type": "code",
   "execution_count": 53,
   "id": "1321b606",
   "metadata": {},
   "outputs": [
    {
     "name": "stdout",
     "output_type": "stream",
     "text": [
      "Hello banglore you all are a banglorean and even I'm a banglorean\n"
     ]
    }
   ],
   "source": [
    "print(\"Hello {1} you all are a {0} and even I'm a {0}\".format('banglorean','banglore') )"
   ]
  },
  {
   "cell_type": "markdown",
   "id": "603323ec",
   "metadata": {},
   "source": [
    "•IN .format the objects can be assigned a variables"
   ]
  },
  {
   "cell_type": "code",
   "execution_count": 58,
   "id": "20afdc29",
   "metadata": {},
   "outputs": [
    {
     "name": "stdout",
     "output_type": "stream",
     "text": [
      "python is my 1st programming language to learn\n"
     ]
    }
   ],
   "source": [
    "print(\"python is {m} {s} {d}\".format(m='my',s='1st',d='programming language to learn'))"
   ]
  },
  {
   "cell_type": "markdown",
   "id": "c99254d2",
   "metadata": {},
   "source": [
    "•Inserted objects can be reused,avoiding duplication"
   ]
  },
  {
   "cell_type": "code",
   "execution_count": 62,
   "id": "fb672b92",
   "metadata": {},
   "outputs": [
    {
     "name": "stdout",
     "output_type": "stream",
     "text": [
      "i earn a penny and i spend a penny\n",
      "i spend a penny and i earn a penny\n"
     ]
    }
   ],
   "source": [
    "print(\"i earn a %s and i spend a %s\"%('penny','penny'))\n",
    "\n",
    "#vs\n",
    "\n",
    "print(\"i spend a {p} and i earn a {p}\".format(p='penny'))"
   ]
  },
  {
   "cell_type": "code",
   "execution_count": null,
   "id": "3b39439d",
   "metadata": {},
   "outputs": [],
   "source": []
  }
 ],
 "metadata": {
  "kernelspec": {
   "display_name": "Python 3 (ipykernel)",
   "language": "python",
   "name": "python3"
  },
  "language_info": {
   "codemirror_mode": {
    "name": "ipython",
    "version": 3
   },
   "file_extension": ".py",
   "mimetype": "text/x-python",
   "name": "python",
   "nbconvert_exporter": "python",
   "pygments_lexer": "ipython3",
   "version": "3.9.12"
  }
 },
 "nbformat": 4,
 "nbformat_minor": 5
}
