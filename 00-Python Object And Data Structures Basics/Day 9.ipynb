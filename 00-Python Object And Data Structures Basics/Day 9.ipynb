{
 "cells": [
  {
   "cell_type": "markdown",
   "id": "cc7af642",
   "metadata": {},
   "source": [
    "# SETS AND BOOLEAN\n",
    "Sets are Unordered collection of Unique elements.\n",
    "Booleans are the predifined true or false statements which is basically a 1 or 0. it also have a placeholder object called NONE"
   ]
  },
  {
   "cell_type": "code",
   "execution_count": 3,
   "id": "8b3ed825",
   "metadata": {},
   "outputs": [],
   "source": [
    "# create a set\n",
    "x = set()"
   ]
  },
  {
   "cell_type": "code",
   "execution_count": 4,
   "id": "2a267734",
   "metadata": {},
   "outputs": [],
   "source": [
    "x.add(1)"
   ]
  },
  {
   "cell_type": "code",
   "execution_count": 5,
   "id": "9bbbdd5a",
   "metadata": {},
   "outputs": [
    {
     "data": {
      "text/plain": [
       "{1}"
      ]
     },
     "execution_count": 5,
     "metadata": {},
     "output_type": "execute_result"
    }
   ],
   "source": [
    "x"
   ]
  },
  {
   "cell_type": "code",
   "execution_count": 6,
   "id": "dc463e37",
   "metadata": {},
   "outputs": [],
   "source": [
    "x.add(2)"
   ]
  },
  {
   "cell_type": "code",
   "execution_count": 7,
   "id": "b5f51bae",
   "metadata": {},
   "outputs": [
    {
     "data": {
      "text/plain": [
       "{1, 2}"
      ]
     },
     "execution_count": 7,
     "metadata": {},
     "output_type": "execute_result"
    }
   ],
   "source": [
    "x"
   ]
  },
  {
   "cell_type": "code",
   "execution_count": 8,
   "id": "988e5aed",
   "metadata": {},
   "outputs": [],
   "source": [
    "# now let us try what happens when we insert a element ehich is already existing in a set\n",
    "x.add(1)"
   ]
  },
  {
   "cell_type": "code",
   "execution_count": 10,
   "id": "193ef805",
   "metadata": {},
   "outputs": [
    {
     "data": {
      "text/plain": [
       "{1, 2}"
      ]
     },
     "execution_count": 10,
     "metadata": {},
     "output_type": "execute_result"
    }
   ],
   "source": [
    "# now we can see that the set displays only an Unique elements.\n",
    "x"
   ]
  },
  {
   "cell_type": "code",
   "execution_count": 11,
   "id": "43cdf68d",
   "metadata": {},
   "outputs": [
    {
     "data": {
      "text/plain": [
       "2"
      ]
     },
     "execution_count": 11,
     "metadata": {},
     "output_type": "execute_result"
    }
   ],
   "source": [
    "# i do have a keen intrest in knowing how much the len would be showing \n",
    "len(x)"
   ]
  },
  {
   "cell_type": "code",
   "execution_count": 12,
   "id": "05288075",
   "metadata": {},
   "outputs": [],
   "source": [
    "# the set fucntion like unique element casting will be helping us in casting a list with multiple elements of same element\n",
    "list = [1,1,2,3,4,3,2,3,4,5,5,6,7,6,7,8]"
   ]
  },
  {
   "cell_type": "code",
   "execution_count": 13,
   "id": "cee0a4d0",
   "metadata": {},
   "outputs": [
    {
     "data": {
      "text/plain": [
       "{1, 2, 3, 4, 5, 6, 7, 8}"
      ]
     },
     "execution_count": 13,
     "metadata": {},
     "output_type": "execute_result"
    }
   ],
   "source": [
    "set(list)"
   ]
  },
  {
   "cell_type": "markdown",
   "id": "b64ce469",
   "metadata": {},
   "source": [
    "BOOLEANS\n",
    "Its basically a true or false of a statement or a problem"
   ]
  },
  {
   "cell_type": "code",
   "execution_count": 15,
   "id": "f1d17c83",
   "metadata": {},
   "outputs": [],
   "source": [
    "a = True"
   ]
  },
  {
   "cell_type": "code",
   "execution_count": 16,
   "id": "a032bd65",
   "metadata": {},
   "outputs": [
    {
     "data": {
      "text/plain": [
       "True"
      ]
     },
     "execution_count": 16,
     "metadata": {},
     "output_type": "execute_result"
    }
   ],
   "source": [
    "a"
   ]
  },
  {
   "cell_type": "code",
   "execution_count": 17,
   "id": "939d2155",
   "metadata": {},
   "outputs": [
    {
     "data": {
      "text/plain": [
       "False"
      ]
     },
     "execution_count": 17,
     "metadata": {},
     "output_type": "execute_result"
    }
   ],
   "source": [
    "1>2"
   ]
  },
  {
   "cell_type": "code",
   "execution_count": 18,
   "id": "c0ebd82a",
   "metadata": {},
   "outputs": [
    {
     "data": {
      "text/plain": [
       "True"
      ]
     },
     "execution_count": 18,
     "metadata": {},
     "output_type": "execute_result"
    }
   ],
   "source": [
    "1<2"
   ]
  },
  {
   "cell_type": "code",
   "execution_count": 19,
   "id": "cde7b7aa",
   "metadata": {},
   "outputs": [],
   "source": [
    "#now let us see a placeholder called none... it means yet we are not decided to assign a value for it\n",
    "b = None"
   ]
  },
  {
   "cell_type": "code",
   "execution_count": 22,
   "id": "aeb581e8",
   "metadata": {},
   "outputs": [
    {
     "name": "stdout",
     "output_type": "stream",
     "text": [
      "None\n"
     ]
    }
   ],
   "source": [
    "print(b)"
   ]
  },
  {
   "cell_type": "code",
   "execution_count": null,
   "id": "b2b3dbf7",
   "metadata": {},
   "outputs": [],
   "source": []
  }
 ],
 "metadata": {
  "kernelspec": {
   "display_name": "Python 3 (ipykernel)",
   "language": "python",
   "name": "python3"
  },
  "language_info": {
   "codemirror_mode": {
    "name": "ipython",
    "version": 3
   },
   "file_extension": ".py",
   "mimetype": "text/x-python",
   "name": "python",
   "nbconvert_exporter": "python",
   "pygments_lexer": "ipython3",
   "version": "3.9.12"
  }
 },
 "nbformat": 4,
 "nbformat_minor": 5
}
