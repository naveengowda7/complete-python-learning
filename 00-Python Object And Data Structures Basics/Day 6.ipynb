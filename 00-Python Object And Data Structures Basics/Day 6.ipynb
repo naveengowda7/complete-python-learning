{
 "cells": [
  {
   "cell_type": "markdown",
   "id": "103cc9b9",
   "metadata": {},
   "source": [
    "# LISTS\n",
    "We have already learnt about the sequence in python. That unlikely string , all others are mutable. That means we can change the elements present in a list"
   ]
  },
  {
   "cell_type": "code",
   "execution_count": 1,
   "id": "fe05472f",
   "metadata": {},
   "outputs": [],
   "source": [
    "my_list = [1,2,3,4,5,6,7]"
   ]
  },
  {
   "cell_type": "code",
   "execution_count": 2,
   "id": "76200513",
   "metadata": {},
   "outputs": [
    {
     "data": {
      "text/plain": [
       "[1, 2, 3, 4, 5, 6, 7]"
      ]
     },
     "execution_count": 2,
     "metadata": {},
     "output_type": "execute_result"
    }
   ],
   "source": [
    "my_list"
   ]
  },
  {
   "cell_type": "code",
   "execution_count": 3,
   "id": "c10c1b12",
   "metadata": {},
   "outputs": [
    {
     "data": {
      "text/plain": [
       "7"
      ]
     },
     "execution_count": 3,
     "metadata": {},
     "output_type": "execute_result"
    }
   ],
   "source": [
    "len(my_list)"
   ]
  },
  {
   "cell_type": "code",
   "execution_count": 5,
   "id": "08ac39fd",
   "metadata": {},
   "outputs": [
    {
     "data": {
      "text/plain": [
       "1"
      ]
     },
     "execution_count": 5,
     "metadata": {},
     "output_type": "execute_result"
    }
   ],
   "source": [
    "#Indexing and slicing of a lists\n",
    "my_list[0]"
   ]
  },
  {
   "cell_type": "code",
   "execution_count": 6,
   "id": "9edbb53d",
   "metadata": {},
   "outputs": [
    {
     "data": {
      "text/plain": [
       "3"
      ]
     },
     "execution_count": 6,
     "metadata": {},
     "output_type": "execute_result"
    }
   ],
   "source": [
    "my_list[2]"
   ]
  },
  {
   "cell_type": "code",
   "execution_count": 7,
   "id": "c1fc5a40",
   "metadata": {},
   "outputs": [
    {
     "data": {
      "text/plain": [
       "[1, 2]"
      ]
     },
     "execution_count": 7,
     "metadata": {},
     "output_type": "execute_result"
    }
   ],
   "source": [
    "my_list[:2]"
   ]
  },
  {
   "cell_type": "code",
   "execution_count": 8,
   "id": "515f04bb",
   "metadata": {},
   "outputs": [
    {
     "data": {
      "text/plain": [
       "[3, 4, 5, 6, 7]"
      ]
     },
     "execution_count": 8,
     "metadata": {},
     "output_type": "execute_result"
    }
   ],
   "source": [
    "my_list[2:8:]"
   ]
  },
  {
   "cell_type": "code",
   "execution_count": 12,
   "id": "82f09c84",
   "metadata": {},
   "outputs": [
    {
     "data": {
      "text/plain": [
       "[3, 5, 7]"
      ]
     },
     "execution_count": 12,
     "metadata": {},
     "output_type": "execute_result"
    }
   ],
   "source": [
    "my_list[2:8:2]\n",
    "#Inside a square braces 1st tells that starting point an Index and 2nd tells that stopinng point of an index and \n",
    "#and the last tells that stepping of how many numbers..."
   ]
  },
  {
   "cell_type": "markdown",
   "id": "2864fe0e",
   "metadata": {},
   "source": [
    "We can also concatenate the list.\n"
   ]
  },
  {
   "cell_type": "code",
   "execution_count": 15,
   "id": "23a7396b",
   "metadata": {},
   "outputs": [
    {
     "data": {
      "text/plain": [
       "[1, 2, 3, 4, 5, 6, 7, 'Naveen']"
      ]
     },
     "execution_count": 15,
     "metadata": {},
     "output_type": "execute_result"
    }
   ],
   "source": [
    "my_list + ['Naveen']"
   ]
  },
  {
   "cell_type": "code",
   "execution_count": 16,
   "id": "2f5f7ec8",
   "metadata": {},
   "outputs": [
    {
     "data": {
      "text/plain": [
       "[1, 2, 3, 4, 5, 6, 7]"
      ]
     },
     "execution_count": 16,
     "metadata": {},
     "output_type": "execute_result"
    }
   ],
   "source": [
    "my_list"
   ]
  },
  {
   "cell_type": "markdown",
   "id": "4939b9ab",
   "metadata": {},
   "source": [
    "Still we can see that the list is not activated at all!\n",
    "So we would have to reassign the list tooo!"
   ]
  },
  {
   "cell_type": "code",
   "execution_count": 17,
   "id": "61a10d28",
   "metadata": {},
   "outputs": [],
   "source": [
    "my_list = my_list + ['Naveen']"
   ]
  },
  {
   "cell_type": "code",
   "execution_count": 18,
   "id": "23950b18",
   "metadata": {},
   "outputs": [
    {
     "data": {
      "text/plain": [
       "[1, 2, 3, 4, 5, 6, 7, 'Naveen']"
      ]
     },
     "execution_count": 18,
     "metadata": {},
     "output_type": "execute_result"
    }
   ],
   "source": [
    "my_list"
   ]
  },
  {
   "cell_type": "code",
   "execution_count": 19,
   "id": "5f237c6c",
   "metadata": {},
   "outputs": [
    {
     "data": {
      "text/plain": [
       "[1, 2, 3, 4, 5, 6, 7, 'Naveen', 1, 2, 3, 4, 5, 6, 7, 'Naveen']"
      ]
     },
     "execution_count": 19,
     "metadata": {},
     "output_type": "execute_result"
    }
   ],
   "source": [
    "#we can duplicate the element's in the list by multiplication\n",
    "my_list*2"
   ]
  },
  {
   "cell_type": "code",
   "execution_count": 20,
   "id": "85f7e10f",
   "metadata": {},
   "outputs": [
    {
     "data": {
      "text/plain": [
       "[1, 2, 3, 4, 5, 6, 7, 'Naveen']"
      ]
     },
     "execution_count": 20,
     "metadata": {},
     "output_type": "execute_result"
    }
   ],
   "source": [
    "my_list"
   ]
  },
  {
   "cell_type": "code",
   "execution_count": 21,
   "id": "3b58e936",
   "metadata": {},
   "outputs": [],
   "source": [
    "#we should be reassging to the my_list. Orelse it wouldn't change by it self\n",
    "my_list = my_list*2"
   ]
  },
  {
   "cell_type": "code",
   "execution_count": 22,
   "id": "dc151718",
   "metadata": {},
   "outputs": [
    {
     "data": {
      "text/plain": [
       "[1, 2, 3, 4, 5, 6, 7, 'Naveen', 1, 2, 3, 4, 5, 6, 7, 'Naveen']"
      ]
     },
     "execution_count": 22,
     "metadata": {},
     "output_type": "execute_result"
    }
   ],
   "source": [
    "my_list"
   ]
  },
  {
   "cell_type": "markdown",
   "id": "f65aa798",
   "metadata": {},
   "source": [
    "# Basic list Method\n"
   ]
  },
  {
   "cell_type": "code",
   "execution_count": 23,
   "id": "266aaf5b",
   "metadata": {},
   "outputs": [],
   "source": [
    "# Append is a Method Where we can assign a element into a list at an extreme index point\n",
    "list=[1,2,3]"
   ]
  },
  {
   "cell_type": "code",
   "execution_count": 24,
   "id": "97db1331",
   "metadata": {},
   "outputs": [
    {
     "data": {
      "text/plain": [
       "[1, 2, 3]"
      ]
     },
     "execution_count": 24,
     "metadata": {},
     "output_type": "execute_result"
    }
   ],
   "source": [
    "list"
   ]
  },
  {
   "cell_type": "code",
   "execution_count": 25,
   "id": "d6dc0aa7",
   "metadata": {},
   "outputs": [],
   "source": [
    "list.append(7)"
   ]
  },
  {
   "cell_type": "code",
   "execution_count": 26,
   "id": "b84fb24b",
   "metadata": {},
   "outputs": [
    {
     "data": {
      "text/plain": [
       "[1, 2, 3, 7]"
      ]
     },
     "execution_count": 26,
     "metadata": {},
     "output_type": "execute_result"
    }
   ],
   "source": [
    "list"
   ]
  },
  {
   "cell_type": "code",
   "execution_count": 28,
   "id": "eaf3b3a7",
   "metadata": {},
   "outputs": [
    {
     "data": {
      "text/plain": [
       "7"
      ]
     },
     "execution_count": 28,
     "metadata": {},
     "output_type": "execute_result"
    }
   ],
   "source": [
    "# pop is a Method where we can delete an element from a list. By Default The pop will Delete the element which is present in an\n",
    "#Extreme end of an index\n",
    "list.pop()"
   ]
  },
  {
   "cell_type": "code",
   "execution_count": 29,
   "id": "26878a23",
   "metadata": {},
   "outputs": [
    {
     "data": {
      "text/plain": [
       "[1, 2, 3]"
      ]
     },
     "execution_count": 29,
     "metadata": {},
     "output_type": "execute_result"
    }
   ],
   "source": [
    "list"
   ]
  },
  {
   "cell_type": "code",
   "execution_count": 30,
   "id": "4b7b40af",
   "metadata": {},
   "outputs": [
    {
     "data": {
      "text/plain": [
       "3"
      ]
     },
     "execution_count": 30,
     "metadata": {},
     "output_type": "execute_result"
    }
   ],
   "source": [
    "list.pop(2)"
   ]
  },
  {
   "cell_type": "code",
   "execution_count": 31,
   "id": "f2c166f1",
   "metadata": {},
   "outputs": [
    {
     "data": {
      "text/plain": [
       "[1, 2]"
      ]
     },
     "execution_count": 31,
     "metadata": {},
     "output_type": "execute_result"
    }
   ],
   "source": [
    "list"
   ]
  },
  {
   "cell_type": "code",
   "execution_count": 32,
   "id": "af9689bf",
   "metadata": {},
   "outputs": [],
   "source": [
    "popped_item = list.pop()"
   ]
  },
  {
   "cell_type": "code",
   "execution_count": 33,
   "id": "181ff669",
   "metadata": {},
   "outputs": [
    {
     "data": {
      "text/plain": [
       "2"
      ]
     },
     "execution_count": 33,
     "metadata": {},
     "output_type": "execute_result"
    }
   ],
   "source": [
    "popped_item"
   ]
  },
  {
   "cell_type": "code",
   "execution_count": 34,
   "id": "a0c1947d",
   "metadata": {},
   "outputs": [
    {
     "data": {
      "text/plain": [
       "[1]"
      ]
     },
     "execution_count": 34,
     "metadata": {},
     "output_type": "execute_result"
    }
   ],
   "source": [
    "list"
   ]
  },
  {
   "cell_type": "code",
   "execution_count": 35,
   "id": "35387332",
   "metadata": {},
   "outputs": [
    {
     "data": {
      "text/plain": [
       "1"
      ]
     },
     "execution_count": 35,
     "metadata": {},
     "output_type": "execute_result"
    }
   ],
   "source": [
    "list.pop()"
   ]
  },
  {
   "cell_type": "code",
   "execution_count": 36,
   "id": "4af9eaa8",
   "metadata": {},
   "outputs": [
    {
     "data": {
      "text/plain": [
       "[]"
      ]
     },
     "execution_count": 36,
     "metadata": {},
     "output_type": "execute_result"
    }
   ],
   "source": [
    "list"
   ]
  },
  {
   "cell_type": "code",
   "execution_count": 38,
   "id": "99a5c59e",
   "metadata": {},
   "outputs": [],
   "source": [
    "list.append(7)"
   ]
  },
  {
   "cell_type": "code",
   "execution_count": 39,
   "id": "1f668e72",
   "metadata": {},
   "outputs": [
    {
     "data": {
      "text/plain": [
       "[7]"
      ]
     },
     "execution_count": 39,
     "metadata": {},
     "output_type": "execute_result"
    }
   ],
   "source": [
    "list"
   ]
  },
  {
   "cell_type": "code",
   "execution_count": 41,
   "id": "1939b5d0",
   "metadata": {},
   "outputs": [],
   "source": [
    "list2 = [1,7,3,10,9,6]"
   ]
  },
  {
   "cell_type": "code",
   "execution_count": 42,
   "id": "609c27ad",
   "metadata": {},
   "outputs": [],
   "source": [
    "list2.sort()"
   ]
  },
  {
   "cell_type": "code",
   "execution_count": 43,
   "id": "cc612b9c",
   "metadata": {},
   "outputs": [
    {
     "data": {
      "text/plain": [
       "[1, 3, 6, 7, 9, 10]"
      ]
     },
     "execution_count": 43,
     "metadata": {},
     "output_type": "execute_result"
    }
   ],
   "source": [
    "list2"
   ]
  },
  {
   "cell_type": "code",
   "execution_count": 44,
   "id": "5208aef8",
   "metadata": {},
   "outputs": [],
   "source": [
    "list2.reverse()"
   ]
  },
  {
   "cell_type": "code",
   "execution_count": 45,
   "id": "29172dcc",
   "metadata": {},
   "outputs": [
    {
     "data": {
      "text/plain": [
       "[10, 9, 7, 6, 3, 1]"
      ]
     },
     "execution_count": 45,
     "metadata": {},
     "output_type": "execute_result"
    }
   ],
   "source": [
    "list2"
   ]
  },
  {
   "cell_type": "markdown",
   "id": "8047d006",
   "metadata": {},
   "source": [
    "# Nestted List\n",
    "The python supports Nesting. It means having a data structure's with in a data structure's"
   ]
  },
  {
   "cell_type": "code",
   "execution_count": 46,
   "id": "56d0ddef",
   "metadata": {},
   "outputs": [],
   "source": [
    "my_list1 = [1,2,3]\n",
    "my_list2 = [4,5,6]\n",
    "my_list3 = [7,8,9]\n",
    "\n",
    "matrix = [my_list1,my_list2,my_list3]"
   ]
  },
  {
   "cell_type": "code",
   "execution_count": 47,
   "id": "b5c50a16",
   "metadata": {},
   "outputs": [
    {
     "data": {
      "text/plain": [
       "[[1, 2, 3], [4, 5, 6], [7, 8, 9]]"
      ]
     },
     "execution_count": 47,
     "metadata": {},
     "output_type": "execute_result"
    }
   ],
   "source": [
    "matrix"
   ]
  },
  {
   "cell_type": "code",
   "execution_count": 48,
   "id": "3a4a8e62",
   "metadata": {},
   "outputs": [
    {
     "data": {
      "text/plain": [
       "[1, 2, 3]"
      ]
     },
     "execution_count": 48,
     "metadata": {},
     "output_type": "execute_result"
    }
   ],
   "source": [
    "#Now, Let us try to grab a element of an Items present in matrix\n",
    "matrix[0]\n"
   ]
  },
  {
   "cell_type": "code",
   "execution_count": 49,
   "id": "1eff8f79",
   "metadata": {},
   "outputs": [
    {
     "data": {
      "text/plain": [
       "2"
      ]
     },
     "execution_count": 49,
     "metadata": {},
     "output_type": "execute_result"
    }
   ],
   "source": [
    "matrix[0][1]"
   ]
  },
  {
   "cell_type": "code",
   "execution_count": 50,
   "id": "be0b45e4",
   "metadata": {},
   "outputs": [
    {
     "data": {
      "text/plain": [
       "4"
      ]
     },
     "execution_count": 50,
     "metadata": {},
     "output_type": "execute_result"
    }
   ],
   "source": [
    "matrix[1][0]"
   ]
  },
  {
   "cell_type": "code",
   "execution_count": null,
   "id": "782b3c19",
   "metadata": {},
   "outputs": [],
   "source": []
  }
 ],
 "metadata": {
  "kernelspec": {
   "display_name": "Python 3 (ipykernel)",
   "language": "python",
   "name": "python3"
  },
  "language_info": {
   "codemirror_mode": {
    "name": "ipython",
    "version": 3
   },
   "file_extension": ".py",
   "mimetype": "text/x-python",
   "name": "python",
   "nbconvert_exporter": "python",
   "pygments_lexer": "ipython3",
   "version": "3.9.12"
  }
 },
 "nbformat": 4,
 "nbformat_minor": 5
}
