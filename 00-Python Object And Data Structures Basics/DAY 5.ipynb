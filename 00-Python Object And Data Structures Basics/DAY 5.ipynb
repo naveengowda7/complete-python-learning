{
 "cells": [
  {
   "cell_type": "markdown",
   "id": "fc4e0041",
   "metadata": {},
   "source": [
    "# ALIGNMENT , PADDING AND PRECISSION BY USING .FORMAT METHOD"
   ]
  },
  {
   "cell_type": "code",
   "execution_count": 17,
   "id": "9a229edb",
   "metadata": {},
   "outputs": [
    {
     "name": "stdout",
     "output_type": "stream",
     "text": [
      "apple     |        20\n"
     ]
    }
   ],
   "source": [
    "#With in a curly braces we can assign a field lengths,left/right allignment and so more\n",
    "# inside a braces 1st position tells that index and second position tells that how distance should they get seperated\n",
    "print('{0:10}|{1:10}'.format('apple',20))"
   ]
  },
  {
   "cell_type": "code",
   "execution_count": 20,
   "id": "f76da758",
   "metadata": {},
   "outputs": [
    {
     "name": "stdout",
     "output_type": "stream",
     "text": [
      "dhoni    | calm,mastermind,trophiestar\n",
      "kohli    | king     \n",
      "pandya   | kunfu    \n"
     ]
    }
   ],
   "source": [
    "print('{0:8} | {1:9}'.format('dhoni','calm,mastermind,trophiestar'))\n",
    "print('{0:8} | {1:9}'.format('kohli','king'))\n",
    "print('{0:8} | {1:9}'.format('pandya','kunfu'))"
   ]
  },
  {
   "cell_type": "markdown",
   "id": "4e9e5f07",
   "metadata": {},
   "source": [
    "By default python alligns text to the left and numbers to the right, so we can alter it by these arrow keys like <,^,> for\n",
    "Left,Centre and Right"
   ]
  },
  {
   "cell_type": "code",
   "execution_count": 26,
   "id": "68413911",
   "metadata": {
    "scrolled": true
   },
   "outputs": [
    {
     "name": "stdout",
     "output_type": "stream",
     "text": [
      " Naveen  |     Dhoni | love      \n"
     ]
    }
   ],
   "source": [
    "print('{0:^8} | {1:>9} | {2:<10}'.format('Naveen','Dhoni','love'))"
   ]
  },
  {
   "cell_type": "markdown",
   "id": "dbeadd80",
   "metadata": {},
   "source": [
    "Float precisions and field lengths are handled same as it is like a placeholder."
   ]
  },
  {
   "cell_type": "code",
   "execution_count": 33,
   "id": "6bcb2ac5",
   "metadata": {},
   "outputs": [
    {
     "name": "stdout",
     "output_type": "stream",
     "text": [
      "Hello Amigos,This is a decimal with ten-characters:      7.07\n",
      "Hello Amigos,This is a decimal with ten-characters:      7.07\n"
     ]
    }
   ],
   "source": [
    "print('Hello Amigos,This is a decimal with ten-characters:%10.2f'%7.071981)\n",
    "print('Hello Amigos,This is a decimal with ten-characters:{0:10.2f}'.format(7.071981))"
   ]
  },
  {
   "cell_type": "markdown",
   "id": "980ff835",
   "metadata": {},
   "source": [
    "# Formatted strings Literals\n",
    "In this we can imediately add a vaiable or an object to it rather than add through an argument\n",
    "But their is one dis agree with it, that it follows a scientific notations perfectly, so if you wanna get another 2digit extra you wont get it. it will be understood perfectly in these following cells"
   ]
  },
  {
   "cell_type": "code",
   "execution_count": 43,
   "id": "08101f71",
   "metadata": {},
   "outputs": [
    {
     "name": "stdout",
     "output_type": "stream",
     "text": [
      "He told his Name is  Naveen!\n"
     ]
    }
   ],
   "source": [
    "name=' Naveen'\n",
    "print(f\"He told his Name is {name}!\")"
   ]
  },
  {
   "cell_type": "code",
   "execution_count": 45,
   "id": "8e43f030",
   "metadata": {},
   "outputs": [
    {
     "name": "stdout",
     "output_type": "stream",
     "text": [
      "He told his Name is ' Naveen'\n"
     ]
    }
   ],
   "source": [
    "#also we can get those string notation even inside it by !r\n",
    "print(f\"He told his Name is {name!r}\")"
   ]
  },
  {
   "cell_type": "markdown",
   "id": "106b922b",
   "metadata": {},
   "source": [
    "# Float Formatting Follows\n",
    "\"Result:{value:{width}.{precision}}\""
   ]
  },
  {
   "cell_type": "code",
   "execution_count": 49,
   "id": "cf12aeab",
   "metadata": {},
   "outputs": [
    {
     "name": "stdout",
     "output_type": "stream",
     "text": [
      "a ten-character decimal number is:     77.20\n",
      "a ten-character decimal number is:      77.2\n"
     ]
    }
   ],
   "source": [
    "num = 77.1981\n",
    "print(\"a ten-character decimal number is:{0:10.2f}\".format(num))\n",
    "print(f\"a ten-character decimal number is:{num:{10}.{4}}\")"
   ]
  },
  {
   "cell_type": "code",
   "execution_count": null,
   "id": "b08667fd",
   "metadata": {},
   "outputs": [],
   "source": []
  }
 ],
 "metadata": {
  "kernelspec": {
   "display_name": "Python 3 (ipykernel)",
   "language": "python",
   "name": "python3"
  },
  "language_info": {
   "codemirror_mode": {
    "name": "ipython",
    "version": 3
   },
   "file_extension": ".py",
   "mimetype": "text/x-python",
   "name": "python",
   "nbconvert_exporter": "python",
   "pygments_lexer": "ipython3",
   "version": "3.9.12"
  }
 },
 "nbformat": 4,
 "nbformat_minor": 5
}
