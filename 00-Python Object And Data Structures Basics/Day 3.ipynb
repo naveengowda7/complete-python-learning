{
 "cells": [
  {
   "cell_type": "markdown",
   "id": "0fc3cfc0",
   "metadata": {},
   "source": [
    "# day3\n",
    "•TODAY I'M GOING TO LEARN ABOUT STRING\n",
    "*CREATING STRING\n",
    "*PRINTING STRING\n",
    "*STRING INDEXING AND SLICING\n",
    "*STRING PROPERTIES\n",
    "*STRING METHODS\n",
    "*PRINT FORMATING"
   ]
  },
  {
   "cell_type": "code",
   "execution_count": 2,
   "id": "0791dd1f",
   "metadata": {},
   "outputs": [
    {
     "data": {
      "text/plain": [
       "'hello Naveen'"
      ]
     },
     "execution_count": 2,
     "metadata": {},
     "output_type": "execute_result"
    }
   ],
   "source": [
    "# creating a string\n",
    "'hello Naveen'"
   ]
  },
  {
   "cell_type": "code",
   "execution_count": 3,
   "id": "58dc7a33",
   "metadata": {},
   "outputs": [
    {
     "data": {
      "text/plain": [
       "'hello programmer'"
      ]
     },
     "execution_count": 3,
     "metadata": {},
     "output_type": "execute_result"
    }
   ],
   "source": [
    "'hello programmer'"
   ]
  },
  {
   "cell_type": "markdown",
   "id": "ffe772da",
   "metadata": {},
   "source": [
    "# string\n",
    " string is used in python to record the text information, such as names. string  is a sequence of order. it means python understands the string 'hello' to be a sequence of letters. so we can easily grab a letter from a string with indexing"
   ]
  },
  {
   "cell_type": "code",
   "execution_count": 4,
   "id": "3c384e62",
   "metadata": {},
   "outputs": [
    {
     "name": "stdout",
     "output_type": "stream",
     "text": [
      "hello world\n"
     ]
    }
   ],
   "source": [
    "#printing a string\n",
    "print('hello world')"
   ]
  },
  {
   "cell_type": "code",
   "execution_count": 9,
   "id": "7a2ee462",
   "metadata": {},
   "outputs": [
    {
     "name": "stdout",
     "output_type": "stream",
     "text": [
      "hello guys \n",
      " this is used to print a string in next line\n"
     ]
    }
   ],
   "source": [
    "print('hello guys \\n this is used to print a string in next line')"
   ]
  },
  {
   "cell_type": "code",
   "execution_count": 10,
   "id": "7d1912f9",
   "metadata": {},
   "outputs": [
    {
     "name": "stdout",
     "output_type": "stream",
     "text": [
      "\n",
      "\n"
     ]
    }
   ],
   "source": [
    "print('\\n')"
   ]
  },
  {
   "cell_type": "code",
   "execution_count": 12,
   "id": "3f3a0282",
   "metadata": {},
   "outputs": [
    {
     "name": "stdout",
     "output_type": "stream",
     "text": [
      "even strings can be phrased inside a double qoutes\n"
     ]
    }
   ],
   "source": [
    "print(\"even strings can be phrased inside a double qoutes\")"
   ]
  },
  {
   "cell_type": "code",
   "execution_count": 15,
   "id": "d9d907cf",
   "metadata": {},
   "outputs": [
    {
     "name": "stdout",
     "output_type": "stream",
     "text": [
      "hello world1\n",
      "hello world2\n"
     ]
    }
   ],
   "source": [
    "print('hello world1'\n",
    "      '\\n''hello world2')"
   ]
  },
  {
   "cell_type": "markdown",
   "id": "4a85ab29",
   "metadata": {},
   "source": [
    "# LEN \n",
    "\n",
    "we can also use a function called LEN which tells that how many letters are in written text inside a string"
   ]
  },
  {
   "cell_type": "code",
   "execution_count": 16,
   "id": "b05d7810",
   "metadata": {},
   "outputs": [
    {
     "data": {
      "text/plain": [
       "11"
      ]
     },
     "execution_count": 16,
     "metadata": {},
     "output_type": "execute_result"
    }
   ],
   "source": [
    "len('hello world')"
   ]
  },
  {
   "cell_type": "code",
   "execution_count": 17,
   "id": "6e04d89c",
   "metadata": {},
   "outputs": [
    {
     "data": {
      "text/plain": [
       "12"
      ]
     },
     "execution_count": 17,
     "metadata": {},
     "output_type": "execute_result"
    }
   ],
   "source": [
    "len('hello naveen')"
   ]
  },
  {
   "cell_type": "markdown",
   "id": "fafa1da0",
   "metadata": {},
   "source": [
    "# STRING INDEXING\n",
    "is nothing but calling a part of a sequence in string\n"
   ]
  },
  {
   "cell_type": "code",
   "execution_count": 18,
   "id": "92ff5613",
   "metadata": {},
   "outputs": [],
   "source": [
    "s = 'hello world'"
   ]
  },
  {
   "cell_type": "code",
   "execution_count": 20,
   "id": "1c5dc80c",
   "metadata": {},
   "outputs": [
    {
     "name": "stdout",
     "output_type": "stream",
     "text": [
      "hello world\n"
     ]
    }
   ],
   "source": [
    "print(s)"
   ]
  },
  {
   "cell_type": "code",
   "execution_count": 21,
   "id": "126952b1",
   "metadata": {},
   "outputs": [
    {
     "data": {
      "text/plain": [
       "'h'"
      ]
     },
     "execution_count": 21,
     "metadata": {},
     "output_type": "execute_result"
    }
   ],
   "source": [
    "s[0]"
   ]
  },
  {
   "cell_type": "code",
   "execution_count": 22,
   "id": "53a2a6e8",
   "metadata": {},
   "outputs": [
    {
     "data": {
      "text/plain": [
       "'e'"
      ]
     },
     "execution_count": 22,
     "metadata": {},
     "output_type": "execute_result"
    }
   ],
   "source": [
    "s[1]"
   ]
  },
  {
   "cell_type": "code",
   "execution_count": 23,
   "id": "627c1ff0",
   "metadata": {},
   "outputs": [
    {
     "data": {
      "text/plain": [
       "'l'"
      ]
     },
     "execution_count": 23,
     "metadata": {},
     "output_type": "execute_result"
    }
   ],
   "source": [
    "s[2]"
   ]
  },
  {
   "cell_type": "code",
   "execution_count": 24,
   "id": "1bec3be4",
   "metadata": {},
   "outputs": [
    {
     "data": {
      "text/plain": [
       "'l'"
      ]
     },
     "execution_count": 24,
     "metadata": {},
     "output_type": "execute_result"
    }
   ],
   "source": [
    "s[3]"
   ]
  },
  {
   "cell_type": "markdown",
   "id": "e8fca26f",
   "metadata": {},
   "source": [
    "# STRING SLICING\n",
    "We can grab a letter where to where and at what steps and the ending of the slicing\n",
    "[start:till:step]"
   ]
  },
  {
   "cell_type": "code",
   "execution_count": 34,
   "id": "c2dd27fb",
   "metadata": {},
   "outputs": [],
   "source": [
    "n = 'naveen'"
   ]
  },
  {
   "cell_type": "code",
   "execution_count": 35,
   "id": "0f65fae0",
   "metadata": {},
   "outputs": [
    {
     "name": "stdout",
     "output_type": "stream",
     "text": [
      "naveen\n"
     ]
    }
   ],
   "source": [
    "print(n)"
   ]
  },
  {
   "cell_type": "code",
   "execution_count": 55,
   "id": "69b65dfd",
   "metadata": {},
   "outputs": [
    {
     "data": {
      "text/plain": [
       "'naveen'"
      ]
     },
     "execution_count": 55,
     "metadata": {},
     "output_type": "execute_result"
    }
   ],
   "source": [
    "n[:6:]"
   ]
  },
  {
   "cell_type": "code",
   "execution_count": 57,
   "id": "004894c4",
   "metadata": {},
   "outputs": [
    {
     "data": {
      "text/plain": [
       "'an'"
      ]
     },
     "execution_count": 57,
     "metadata": {},
     "output_type": "execute_result"
    }
   ],
   "source": [
    "n[1:6:4]"
   ]
  },
  {
   "cell_type": "markdown",
   "id": "1750f629",
   "metadata": {},
   "source": [
    "# string properties\n",
    "their is an most important property called IMMUTABILITY,tells us that if  a string is classified as something then the elements present inside that cannot be changed."
   ]
  },
  {
   "cell_type": "code",
   "execution_count": 58,
   "id": "5ca29ff5",
   "metadata": {},
   "outputs": [],
   "source": [
    "m = 'naveen gowda'"
   ]
  },
  {
   "cell_type": "code",
   "execution_count": 59,
   "id": "c63d4059",
   "metadata": {},
   "outputs": [
    {
     "data": {
      "text/plain": [
       "'naveen gowda'"
      ]
     },
     "execution_count": 59,
     "metadata": {},
     "output_type": "execute_result"
    }
   ],
   "source": [
    "m"
   ]
  },
  {
   "cell_type": "code",
   "execution_count": 60,
   "id": "7fe5b9f3",
   "metadata": {},
   "outputs": [
    {
     "name": "stdout",
     "output_type": "stream",
     "text": [
      "naveen gowda\n"
     ]
    }
   ],
   "source": [
    "print(m)"
   ]
  },
  {
   "cell_type": "code",
   "execution_count": 61,
   "id": "1c4eee95",
   "metadata": {},
   "outputs": [
    {
     "ename": "TypeError",
     "evalue": "'str' object does not support item assignment",
     "output_type": "error",
     "traceback": [
      "\u001b[1;31m---------------------------------------------------------------------------\u001b[0m",
      "\u001b[1;31mTypeError\u001b[0m                                 Traceback (most recent call last)",
      "Input \u001b[1;32mIn [61]\u001b[0m, in \u001b[0;36m<cell line: 1>\u001b[1;34m()\u001b[0m\n\u001b[1;32m----> 1\u001b[0m m[\u001b[38;5;241m0\u001b[39m] \u001b[38;5;241m=\u001b[39m \u001b[38;5;124m'\u001b[39m\u001b[38;5;124mp\u001b[39m\u001b[38;5;124m'\u001b[39m\n",
      "\u001b[1;31mTypeError\u001b[0m: 'str' object does not support item assignment"
     ]
    }
   ],
   "source": [
    "# immutabillity\n",
    "m[0] = 'p'"
   ]
  },
  {
   "cell_type": "code",
   "execution_count": 66,
   "id": "fd8836d8",
   "metadata": {},
   "outputs": [
    {
     "data": {
      "text/plain": [
       "'naveen gowda concatenate me'"
      ]
     },
     "execution_count": 66,
     "metadata": {},
     "output_type": "execute_result"
    }
   ],
   "source": [
    "# their is a solution to get rid of immutability that's called CONCATENATE(LINKING)\n",
    "m +  ' concatenate me'"
   ]
  },
  {
   "cell_type": "code",
   "execution_count": 67,
   "id": "3e8a7939",
   "metadata": {},
   "outputs": [],
   "source": [
    "m = m + ' concatenate me'"
   ]
  },
  {
   "cell_type": "code",
   "execution_count": 68,
   "id": "03bad643",
   "metadata": {},
   "outputs": [
    {
     "data": {
      "text/plain": [
       "'naveen gowda concatenate me'"
      ]
     },
     "execution_count": 68,
     "metadata": {},
     "output_type": "execute_result"
    }
   ],
   "source": [
    "m"
   ]
  },
  {
   "cell_type": "code",
   "execution_count": 69,
   "id": "1365234a",
   "metadata": {},
   "outputs": [],
   "source": [
    "#we can multiply a things by this\n",
    "n = 'z'"
   ]
  },
  {
   "cell_type": "code",
   "execution_count": 70,
   "id": "546641cb",
   "metadata": {},
   "outputs": [
    {
     "data": {
      "text/plain": [
       "'zzzzzzzzzz'"
      ]
     },
     "execution_count": 70,
     "metadata": {},
     "output_type": "execute_result"
    }
   ],
   "source": [
    "n*10"
   ]
  },
  {
   "cell_type": "markdown",
   "id": "12566b55",
   "metadata": {},
   "source": [
    "# string methods\n",
    "thier are a basic string methods. we call methods with a period and the method name such as \n",
    "object.method(parameter)"
   ]
  },
  {
   "cell_type": "code",
   "execution_count": 71,
   "id": "eefdbf93",
   "metadata": {},
   "outputs": [
    {
     "data": {
      "text/plain": [
       "'NAVEEN GOWDA CONCATENATE ME'"
      ]
     },
     "execution_count": 71,
     "metadata": {},
     "output_type": "execute_result"
    }
   ],
   "source": [
    "m.upper()"
   ]
  },
  {
   "cell_type": "code",
   "execution_count": 72,
   "id": "d2390edb",
   "metadata": {},
   "outputs": [
    {
     "data": {
      "text/plain": [
       "'naveen gowda concatenate me'"
      ]
     },
     "execution_count": 72,
     "metadata": {},
     "output_type": "execute_result"
    }
   ],
   "source": [
    "m.lower()"
   ]
  },
  {
   "cell_type": "code",
   "execution_count": 73,
   "id": "31a46816",
   "metadata": {},
   "outputs": [
    {
     "data": {
      "text/plain": [
       "['naveen', 'gowda', 'concatenate', 'me']"
      ]
     },
     "execution_count": 73,
     "metadata": {},
     "output_type": "execute_result"
    }
   ],
   "source": [
    "m.split()"
   ]
  },
  {
   "cell_type": "code",
   "execution_count": 75,
   "id": "7b81e5a3",
   "metadata": {},
   "outputs": [
    {
     "data": {
      "text/plain": [
       "['naveen gowda ', 'on', 'atenate me']"
      ]
     },
     "execution_count": 75,
     "metadata": {},
     "output_type": "execute_result"
    }
   ],
   "source": [
    "m.split('c')"
   ]
  },
  {
   "cell_type": "code",
   "execution_count": 77,
   "id": "1746246c",
   "metadata": {},
   "outputs": [
    {
     "ename": "TypeError",
     "evalue": "str.lower() takes no arguments (1 given)",
     "output_type": "error",
     "traceback": [
      "\u001b[1;31m---------------------------------------------------------------------------\u001b[0m",
      "\u001b[1;31mTypeError\u001b[0m                                 Traceback (most recent call last)",
      "Input \u001b[1;32mIn [77]\u001b[0m, in \u001b[0;36m<cell line: 1>\u001b[1;34m()\u001b[0m\n\u001b[1;32m----> 1\u001b[0m \u001b[43mm\u001b[49m\u001b[38;5;241;43m.\u001b[39;49m\u001b[43mlower\u001b[49m\u001b[43m(\u001b[49m\u001b[38;5;124;43m'\u001b[39;49m\u001b[38;5;124;43mn\u001b[39;49m\u001b[38;5;124;43m'\u001b[39;49m\u001b[43m)\u001b[49m\n",
      "\u001b[1;31mTypeError\u001b[0m: str.lower() takes no arguments (1 given)"
     ]
    }
   ],
   "source": []
  },
  {
   "cell_type": "code",
   "execution_count": null,
   "id": "26d12b3e",
   "metadata": {},
   "outputs": [],
   "source": []
  }
 ],
 "metadata": {
  "kernelspec": {
   "display_name": "Python 3 (ipykernel)",
   "language": "python",
   "name": "python3"
  },
  "language_info": {
   "codemirror_mode": {
    "name": "ipython",
    "version": 3
   },
   "file_extension": ".py",
   "mimetype": "text/x-python",
   "name": "python",
   "nbconvert_exporter": "python",
   "pygments_lexer": "ipython3",
   "version": "3.9.12"
  }
 },
 "nbformat": 4,
 "nbformat_minor": 5
}
